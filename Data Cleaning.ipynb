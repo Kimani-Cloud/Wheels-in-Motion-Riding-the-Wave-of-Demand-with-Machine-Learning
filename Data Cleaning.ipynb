{
 "cells": [
  {
   "cell_type": "markdown",
   "id": "961a9f8a",
   "metadata": {},
   "source": [
    "***Phase 1/4***\n",
    "\n",
    "**Data Cleaning, Analysis and Visualization**"
   ]
  },
  {
   "cell_type": "markdown",
   "id": "716746ce",
   "metadata": {},
   "source": [
    "**Phase Objective**\n",
    "\n",
    "The objective of this phase is to prepare the dataset for modeling by cleaning and transforming it and to identify key features that will be relevant in predicting ride-request demands.\n",
    "\n",
    "Instructions\n",
    "\n",
    "1. Learn how to clean and transform data using pandas library in Python.\n",
    "\n",
    "2. Understand how to use visualization techniques in matplotlib and seaborn libraries to explore and interpret data.\n",
    "\n",
    "3. Practice identifying and handling missing values, outliers, and anomalies in real-world datasets\n",
    "\n",
    "4. Apply encoding techniques to convert categorical data into numerical data."
   ]
  },
  {
   "cell_type": "markdown",
   "id": "641040bb",
   "metadata": {},
   "source": [
    "***1. Import Libraries & Load Data***"
   ]
  },
  {
   "cell_type": "code",
   "execution_count": 1,
   "id": "5516c90c",
   "metadata": {},
   "outputs": [],
   "source": [
    "#Importing the necessariry libraries\n",
    "import pandas as pd\n",
    "import numpy as np\n",
    "import matplotlib.pyplot as plt\n",
    "import seaborn as sns\n"
   ]
  },
  {
   "cell_type": "code",
   "execution_count": 2,
   "id": "8790acc9",
   "metadata": {},
   "outputs": [
    {
     "name": "stdout",
     "output_type": "stream",
     "text": [
      "First Rows:\n",
      "         Date      Time  Booking ID       Booking Status  Customer ID  \\\n",
      "0  28/01/2024   6:00:00  CNR1721175              Success       329258   \n",
      "1  26/01/2024   3:00:00  CNR2871422  Cancelled by Driver       201414   \n",
      "2  15/01/2024  16:00:00  CNR6875935  Cancelled by Driver       301629   \n",
      "3  02/01/2024  22:00:00  CNR6798834  Cancelled by Driver       319684   \n",
      "4  30/01/2024  22:00:00  CNR9661713           Incomplete       330283   \n",
      "\n",
      "  Vehicle Type Pickup Location Drop Location  Avg VTAT  Avg CTAT  ...  \\\n",
      "0         Auto          Area-3        Area-2      5.42     18.46  ...   \n",
      "1         Mini          Area-7        Area-6       NaN       NaN  ...   \n",
      "2         Bike         Area-40       Area-24       NaN       NaN  ...   \n",
      "3  Prime Sedan         Area-11       Area-24       NaN       NaN  ...   \n",
      "4         Bike         Area-41       Area-45       NaN       NaN  ...   \n",
      "\n",
      "   Reason for Cancelling by Customer Cancelled Rides by Driver  \\\n",
      "0                                NaN                         0   \n",
      "1                                NaN                         1   \n",
      "2                                NaN                         1   \n",
      "3                                NaN                         1   \n",
      "4                                NaN                         0   \n",
      "\n",
      "   Reason for Cancelling by Driver Incomplete Rides  Incomplete Rides Reason  \\\n",
      "0                              NaN                0                      NaN   \n",
      "1   The customer was coughing/sick                0                      NaN   \n",
      "2    Personal & Car related issues                0                      NaN   \n",
      "3   The customer was coughing/sick                0                      NaN   \n",
      "4                              NaN                1              Other Issue   \n",
      "\n",
      "  Booking Value  Payment Method Ride Distance  Driver Ratings  Customer Rating  \n",
      "0        868.06          Wallet          28.5             4.4              4.4  \n",
      "1           NaN             NaN           NaN             NaN              NaN  \n",
      "2           NaN             NaN           NaN             NaN              NaN  \n",
      "3           NaN             NaN           NaN             NaN              NaN  \n",
      "4           NaN             NaN           NaN             NaN              NaN  \n",
      "\n",
      "[5 rows x 21 columns]\n"
     ]
    }
   ],
   "source": [
    "# Load dataset\n",
    "df = pd.read_csv(r\"Data\\Bengaluru Ola.csv\")\n",
    "\n",
    "# Preview first rows and some statistics\n",
    "print('First Rows:')\n",
    "print(df.head())\n"
   ]
  },
  {
   "cell_type": "code",
   "execution_count": 3,
   "id": "d65124ff",
   "metadata": {},
   "outputs": [
    {
     "name": "stdout",
     "output_type": "stream",
     "text": [
      "Statistics:\n",
      "         Customer ID      Avg VTAT      Avg CTAT  Cancelled  by Customer  \\\n",
      "count   49999.000000  33484.000000  33484.000000            49999.000000   \n",
      "mean   550979.937539     10.481654     15.564320                0.075982   \n",
      "std    258855.930945      5.490853      8.365313                0.264971   \n",
      "min    100001.000000      1.000000      1.000000                0.000000   \n",
      "25%    328740.500000      5.730000      8.310000                0.000000   \n",
      "50%    552598.000000     10.460000     15.610000                0.000000   \n",
      "75%    773970.000000     15.240000     22.790000                0.000000   \n",
      "max    999991.000000     20.000000     30.000000                1.000000   \n",
      "\n",
      "       Cancelled Rides by Driver  Incomplete Rides  Booking Value  \\\n",
      "count               49999.000000      49999.000000   33484.000000   \n",
      "mean                    0.192204          0.062121    1023.374286   \n",
      "std                     0.394036          0.241378     563.595072   \n",
      "min                     0.000000          0.000000      50.100000   \n",
      "25%                     0.000000          0.000000     532.942500   \n",
      "50%                     0.000000          0.000000    1023.350000   \n",
      "75%                     0.000000          0.000000    1514.677500   \n",
      "max                     1.000000          1.000000    2000.000000   \n",
      "\n",
      "       Ride Distance  Driver Ratings  Customer Rating  \n",
      "count   33484.000000     33484.00000     33484.000000  \n",
      "mean       25.447143         4.00304         4.001726  \n",
      "std        14.175953         0.57968         0.579177  \n",
      "min         1.000000         3.00000         3.000000  \n",
      "25%        13.100000         3.50000         3.500000  \n",
      "50%        25.460000         4.00000         4.000000  \n",
      "75%        37.670000         4.50000         4.500000  \n",
      "max        50.000000         5.00000         5.000000  \n"
     ]
    }
   ],
   "source": [
    "print('Statistics:')\n",
    "print(df.describe())"
   ]
  },
  {
   "cell_type": "markdown",
   "id": "cf093246",
   "metadata": {},
   "source": [
    "***2. Keep Only Bike/eBike Rides***"
   ]
  },
  {
   "cell_type": "code",
   "execution_count": 4,
   "id": "4bb93edd",
   "metadata": {},
   "outputs": [
    {
     "name": "stdout",
     "output_type": "stream",
     "text": [
      "Remaining rows after filtering: 14320\n"
     ]
    },
    {
     "data": {
      "application/vnd.microsoft.datawrangler.viewer.v0+json": {
       "columns": [
        {
         "name": "Vehicle Type",
         "rawType": "object",
         "type": "string"
        },
        {
         "name": "count",
         "rawType": "int64",
         "type": "integer"
        }
       ],
       "ref": "64410da8-b2e4-45ad-93cc-e4fc1188c549",
       "rows": [
        [
         "Bike",
         "7223"
        ],
        [
         "eBike",
         "7097"
        ]
       ],
       "shape": {
        "columns": 1,
        "rows": 2
       }
      },
      "text/plain": [
       "Vehicle Type\n",
       "Bike     7223\n",
       "eBike    7097\n",
       "Name: count, dtype: int64"
      ]
     },
     "execution_count": 4,
     "metadata": {},
     "output_type": "execute_result"
    }
   ],
   "source": [
    "# Filter dataset to only include Bike or eBike\n",
    "df = df[df['Vehicle Type'].isin(['Bike', 'eBike'])]\n",
    "\n",
    "print(\"Remaining rows after filtering:\", df.shape[0])\n",
    "df['Vehicle Type'].value_counts()\n"
   ]
  },
  {
   "cell_type": "markdown",
   "id": "b0ad9d3b",
   "metadata": {},
   "source": [
    "***3. Inspect & Handle Missing Values***"
   ]
  },
  {
   "cell_type": "code",
   "execution_count": 5,
   "id": "20b7819a",
   "metadata": {},
   "outputs": [
    {
     "data": {
      "application/vnd.microsoft.datawrangler.viewer.v0+json": {
       "columns": [
        {
         "name": "index",
         "rawType": "object",
         "type": "string"
        },
        {
         "name": "0",
         "rawType": "int64",
         "type": "integer"
        }
       ],
       "ref": "cfaba27a-62f5-4b39-b417-ef8caf715879",
       "rows": [
        [
         "Date",
         "0"
        ],
        [
         "Time",
         "0"
        ],
        [
         "Booking ID",
         "0"
        ],
        [
         "Booking Status",
         "0"
        ],
        [
         "Customer ID",
         "0"
        ],
        [
         "Vehicle Type",
         "0"
        ],
        [
         "Pickup Location",
         "0"
        ],
        [
         "Drop Location",
         "0"
        ],
        [
         "Avg VTAT",
         "4711"
        ],
        [
         "Avg CTAT",
         "4711"
        ],
        [
         "Cancelled  by Customer",
         "0"
        ],
        [
         "Reason for Cancelling by Customer",
         "13220"
        ],
        [
         "Cancelled Rides by Driver",
         "0"
        ],
        [
         "Reason for Cancelling by Driver",
         "11582"
        ],
        [
         "Incomplete Rides",
         "0"
        ],
        [
         "Incomplete Rides Reason",
         "13447"
        ],
        [
         "Booking Value",
         "4711"
        ],
        [
         "Payment Method",
         "4711"
        ],
        [
         "Ride Distance",
         "4711"
        ],
        [
         "Driver Ratings",
         "4711"
        ],
        [
         "Customer Rating",
         "4711"
        ]
       ],
       "shape": {
        "columns": 1,
        "rows": 21
       }
      },
      "text/plain": [
       "Date                                     0\n",
       "Time                                     0\n",
       "Booking ID                               0\n",
       "Booking Status                           0\n",
       "Customer ID                              0\n",
       "Vehicle Type                             0\n",
       "Pickup Location                          0\n",
       "Drop Location                            0\n",
       "Avg VTAT                              4711\n",
       "Avg CTAT                              4711\n",
       "Cancelled  by Customer                   0\n",
       "Reason for Cancelling by Customer    13220\n",
       "Cancelled Rides by Driver                0\n",
       "Reason for Cancelling by Driver      11582\n",
       "Incomplete Rides                         0\n",
       "Incomplete Rides Reason              13447\n",
       "Booking Value                         4711\n",
       "Payment Method                        4711\n",
       "Ride Distance                         4711\n",
       "Driver Ratings                        4711\n",
       "Customer Rating                       4711\n",
       "dtype: int64"
      ]
     },
     "execution_count": 5,
     "metadata": {},
     "output_type": "execute_result"
    }
   ],
   "source": [
    "# Check missing values\n",
    "df.isnull().sum()\n"
   ]
  },
  {
   "cell_type": "code",
   "execution_count": 6,
   "id": "b29eb828",
   "metadata": {},
   "outputs": [],
   "source": [
    "# Fill missing numerical values with median\n",
    "num_cols = df.select_dtypes(include=[np.number]).columns\n",
    "for col in num_cols:\n",
    "    df[col] = df[col].fillna(df[col].median())\n",
    "\n",
    "# Fill missing categorical values with 'Unknown'\n",
    "cat_cols = df.select_dtypes(include=['object']).columns\n",
    "for col in cat_cols:\n",
    "    df[col] = df[col].fillna('Unknown')\n"
   ]
  },
  {
   "cell_type": "code",
   "execution_count": 7,
   "id": "09d62941",
   "metadata": {},
   "outputs": [
    {
     "data": {
      "application/vnd.microsoft.datawrangler.viewer.v0+json": {
       "columns": [
        {
         "name": "index",
         "rawType": "object",
         "type": "string"
        },
        {
         "name": "0",
         "rawType": "int64",
         "type": "integer"
        }
       ],
       "ref": "805955e2-7e72-4b33-8003-4c099d26b7f7",
       "rows": [
        [
         "Date",
         "0"
        ],
        [
         "Time",
         "0"
        ],
        [
         "Booking ID",
         "0"
        ],
        [
         "Booking Status",
         "0"
        ],
        [
         "Customer ID",
         "0"
        ],
        [
         "Vehicle Type",
         "0"
        ],
        [
         "Pickup Location",
         "0"
        ],
        [
         "Drop Location",
         "0"
        ],
        [
         "Avg VTAT",
         "0"
        ],
        [
         "Avg CTAT",
         "0"
        ],
        [
         "Cancelled  by Customer",
         "0"
        ],
        [
         "Reason for Cancelling by Customer",
         "0"
        ],
        [
         "Cancelled Rides by Driver",
         "0"
        ],
        [
         "Reason for Cancelling by Driver",
         "0"
        ],
        [
         "Incomplete Rides",
         "0"
        ],
        [
         "Incomplete Rides Reason",
         "0"
        ],
        [
         "Booking Value",
         "0"
        ],
        [
         "Payment Method",
         "0"
        ],
        [
         "Ride Distance",
         "0"
        ],
        [
         "Driver Ratings",
         "0"
        ],
        [
         "Customer Rating",
         "0"
        ]
       ],
       "shape": {
        "columns": 1,
        "rows": 21
       }
      },
      "text/plain": [
       "Date                                 0\n",
       "Time                                 0\n",
       "Booking ID                           0\n",
       "Booking Status                       0\n",
       "Customer ID                          0\n",
       "Vehicle Type                         0\n",
       "Pickup Location                      0\n",
       "Drop Location                        0\n",
       "Avg VTAT                             0\n",
       "Avg CTAT                             0\n",
       "Cancelled  by Customer               0\n",
       "Reason for Cancelling by Customer    0\n",
       "Cancelled Rides by Driver            0\n",
       "Reason for Cancelling by Driver      0\n",
       "Incomplete Rides                     0\n",
       "Incomplete Rides Reason              0\n",
       "Booking Value                        0\n",
       "Payment Method                       0\n",
       "Ride Distance                        0\n",
       "Driver Ratings                       0\n",
       "Customer Rating                      0\n",
       "dtype: int64"
      ]
     },
     "execution_count": 7,
     "metadata": {},
     "output_type": "execute_result"
    }
   ],
   "source": [
    "df.isnull().sum()"
   ]
  },
  {
   "cell_type": "markdown",
   "id": "3eaf96c7",
   "metadata": {},
   "source": [
    "***4. Handle Outliers (Example: Ride Distance)***"
   ]
  },
  {
   "cell_type": "code",
   "execution_count": 8,
   "id": "441517fa",
   "metadata": {},
   "outputs": [
    {
     "data": {
      "image/png": "[encoded data removed]",
      "text/plain": [
       "<Figure size 640x480 with 1 Axes>"
      ]
     },
     "metadata": {},
     "output_type": "display_data"
    }
   ],
   "source": [
    "# Visualize ride distance distribution\n",
    "sns.boxplot(x=df['Ride Distance'])\n",
    "plt.title(\"Ride Distance Outliers\")\n",
    "plt.show()"
   ]
  },
  {
   "cell_type": "code",
   "execution_count": 9,
   "id": "012a0401",
   "metadata": {},
   "outputs": [],
   "source": [
    "# Remove extreme outliers using IQR method\n",
    "Q1 = df['Ride Distance'].quantile(0.25)\n",
    "Q3 = df['Ride Distance'].quantile(0.75)\n",
    "IQR = Q3 - Q1\n",
    "df = df[(df['Ride Distance'] >= Q1 - 1.5*IQR) & (df['Ride Distance'] <= Q3 + 1.5*IQR)]"
   ]
  },
  {
   "cell_type": "markdown",
   "id": "c49e87a0",
   "metadata": {},
   "source": [
    "***5. Encode Categorical Variables***"
   ]
  },
  {
   "cell_type": "code",
   "execution_count": 10,
   "id": "df384d62",
   "metadata": {},
   "outputs": [],
   "source": [
    "# Encode 'Vehicle Type' as numeric\n",
    "df['Vehicle Type'] = df['Vehicle Type'].astype('category').cat.codes\n",
    "\n",
    "# One-hot encode key categorical variables\n",
    "df = pd.get_dummies(df, columns=['Payment Method', 'Booking Status'], drop_first=True)\n"
   ]
  },
  {
   "cell_type": "markdown",
   "id": "d0fc4781",
   "metadata": {},
   "source": [
    "***6. Feature Engineering (Add Hour Column)***"
   ]
  },
  {
   "cell_type": "code",
   "execution_count": 11,
   "id": "f7e8366c",
   "metadata": {},
   "outputs": [
    {
     "data": {
      "application/vnd.microsoft.datawrangler.viewer.v0+json": {
       "columns": [
        {
         "name": "index",
         "rawType": "int64",
         "type": "integer"
        },
        {
         "name": "Time",
         "rawType": "object",
         "type": "string"
        },
        {
         "name": "Hour",
         "rawType": "int32",
         "type": "integer"
        }
       ],
       "ref": "9ee81204-b80e-49e4-a078-d25fa1cbc31c",
       "rows": [
        [
         "2",
         "16:00:00",
         "16"
        ],
        [
         "4",
         "22:00:00",
         "22"
        ],
        [
         "7",
         "0:00:00",
         "0"
        ],
        [
         "12",
         "14:00:00",
         "14"
        ],
        [
         "13",
         "21:00:00",
         "21"
        ]
       ],
       "shape": {
        "columns": 2,
        "rows": 5
       }
      },
      "text/html": [
       "<div>\n",
       "<style scoped>\n",
       "    .dataframe tbody tr th:only-of-type {\n",
       "        vertical-align: middle;\n",
       "    }\n",
       "\n",
       "    .dataframe tbody tr th {\n",
       "        vertical-align: top;\n",
       "    }\n",
       "\n",
       "    .dataframe thead th {\n",
       "        text-align: right;\n",
       "    }\n",
       "</style>\n",
       "<table border=\"1\" class=\"dataframe\">\n",
       "  <thead>\n",
       "    <tr style=\"text-align: right;\">\n",
       "      <th></th>\n",
       "      <th>Time</th>\n",
       "      <th>Hour</th>\n",
       "    </tr>\n",
       "  </thead>\n",
       "  <tbody>\n",
       "    <tr>\n",
       "      <th>2</th>\n",
       "      <td>16:00:00</td>\n",
       "      <td>16</td>\n",
       "    </tr>\n",
       "    <tr>\n",
       "      <th>4</th>\n",
       "      <td>22:00:00</td>\n",
       "      <td>22</td>\n",
       "    </tr>\n",
       "    <tr>\n",
       "      <th>7</th>\n",
       "      <td>0:00:00</td>\n",
       "      <td>0</td>\n",
       "    </tr>\n",
       "    <tr>\n",
       "      <th>12</th>\n",
       "      <td>14:00:00</td>\n",
       "      <td>14</td>\n",
       "    </tr>\n",
       "    <tr>\n",
       "      <th>13</th>\n",
       "      <td>21:00:00</td>\n",
       "      <td>21</td>\n",
       "    </tr>\n",
       "  </tbody>\n",
       "</table>\n",
       "</div>"
      ],
      "text/plain": [
       "        Time  Hour\n",
       "2   16:00:00    16\n",
       "4   22:00:00    22\n",
       "7    0:00:00     0\n",
       "12  14:00:00    14\n",
       "13  21:00:00    21"
      ]
     },
     "execution_count": 11,
     "metadata": {},
     "output_type": "execute_result"
    }
   ],
   "source": [
    "# Convert 'Time' into datetime hour\n",
    "df['Hour'] = pd.to_datetime(df['Time'], format='%H:%M:%S').dt.hour\n",
    "\n",
    "df[['Time', 'Hour']].head()\n"
   ]
  },
  {
   "cell_type": "markdown",
   "id": "5efccd36",
   "metadata": {},
   "source": [
    "***7. Exploratory Data Analysis (EDA)***"
   ]
  },
  {
   "cell_type": "markdown",
   "id": "8bbe1e9c",
   "metadata": {},
   "source": [
    "*Ride Requests by Hour*"
   ]
  },
  {
   "cell_type": "code",
   "execution_count": 12,
   "id": "6fac215f",
   "metadata": {},
   "outputs": [
    {
     "data": {
      "image/png": "[encoded data removed]",
      "text/plain": [
       "<Figure size 640x480 with 1 Axes>"
      ]
     },
     "metadata": {},
     "output_type": "display_data"
    }
   ],
   "source": [
    "sns.countplot(x='Hour', hue= 'Hour', data=df, palette=\"viridis\", legend=False)\n",
    "plt.title(\"Bike Ride Requests by Hour\")\n",
    "plt.show()\n"
   ]
  },
  {
   "cell_type": "markdown",
   "id": "c0ce5787",
   "metadata": {},
   "source": [
    "*Top Pickup Locations*"
   ]
  },
  {
   "cell_type": "code",
   "execution_count": 13,
   "id": "0de2d402",
   "metadata": {},
   "outputs": [
    {
     "data": {
      "image/png": "[encoded data removed]",
      "text/plain": [
       "<Figure size 640x480 with 1 Axes>"
      ]
     },
     "metadata": {},
     "output_type": "display_data"
    }
   ],
   "source": [
    "top_pickups = df['Pickup Location'].value_counts().head(10)\n",
    "sns.barplot(x=top_pickups.index, y=top_pickups.values, hue=top_pickups.index, palette=\"mako\", legend=False )\n",
    "plt.title(\"Top 10 Pickup Locations for Bikes\")\n",
    "plt.xticks(rotation=45)\n",
    "plt.show()"
   ]
  },
  {
   "cell_type": "markdown",
   "id": "0b2df1fa",
   "metadata": {},
   "source": [
    "*Booking Status Distribution*"
   ]
  },
  {
   "cell_type": "code",
   "execution_count": 14,
   "id": "0b970420",
   "metadata": {},
   "outputs": [
    {
     "data": {
      "image/png": "[encoded data removed]",
      "text/plain": [
       "<Figure size 640x480 with 1 Axes>"
      ]
     },
     "metadata": {},
     "output_type": "display_data"
    }
   ],
   "source": [
    "sns.countplot(x='Booking Status_Success', data=df)\n",
    "plt.title(\"Booking Success vs Others (Bike rides)\")\n",
    "plt.show()"
   ]
  },
  {
   "cell_type": "code",
   "execution_count": 15,
   "id": "e10724f6",
   "metadata": {},
   "outputs": [
    {
     "data": {
      "image/png": "[encoded data removed]",
      "text/plain": [
       "<Figure size 800x400 with 1 Axes>"
      ]
     },
     "metadata": {},
     "output_type": "display_data"
    }
   ],
   "source": [
    "plt.figure(figsize=(8,4))\n",
    "sns.boxplot(x=df['Ride Distance'])\n",
    "plt.title(\"Distribution of Ride Distances (Bike/eBike)\")\n",
    "plt.xlabel(\"Ride Distance (km)\")\n",
    "plt.show()"
   ]
  },
  {
   "cell_type": "markdown",
   "id": "1b8ea1fd",
   "metadata": {},
   "source": [
    "*8. Save Cleaned Dataset*"
   ]
  },
  {
   "cell_type": "code",
   "execution_count": 16,
   "id": "ce1356a5",
   "metadata": {},
   "outputs": [
    {
     "name": "stdout",
     "output_type": "stream",
     "text": [
      "Cleaned dataset saved as Bengaluru_Ola_Bikes_Cleaned.csv\n"
     ]
    }
   ],
   "source": [
    "df.to_csv(\"Data\\\\Bengaluru_Ola_Bikes_Cleaned.csv\", index=False)\n",
    "print(\"Cleaned dataset saved as Bengaluru_Ola_Bikes_Cleaned.csv\")\n"
   ]
  }
 ],
 "metadata": {
  "kernelspec": {
   "display_name": "Python 3",
   "language": "python",
   "name": "python3"
  },
  "language_info": {
   "codemirror_mode": {
    "name": "ipython",
    "version": 3
   },
   "file_extension": ".py",
   "mimetype": "text/x-python",
   "name": "python",
   "nbconvert_exporter": "python",
   "pygments_lexer": "ipython3",
   "version": "3.12.3"
  }
 },
 "nbformat": 4,
 "nbformat_minor": 5
}
