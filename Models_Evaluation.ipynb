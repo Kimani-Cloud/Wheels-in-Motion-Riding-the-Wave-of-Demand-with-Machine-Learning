{
 "cells": [
  {
   "cell_type": "markdown",
   "id": "6982fd15",
   "metadata": {},
   "source": [
    "***Phase 3***\n",
    "\n",
    "**Evaluating Various Model Approaches**"
   ]
  },
  {
   "cell_type": "markdown",
   "id": "6ac666af",
   "metadata": {},
   "source": [
    "**Phase Objective**\n",
    "\n",
    "This phase aims to compare and evaluate the performance of different machine learning models, identify the best-performing model, and fine-tune it for better accuracy.\n",
    "\n",
    "Instructions\n",
    "\n",
    "1. Understand the problem and the data before choosing evaluation metrics.\n",
    "\n",
    "2. Use cross-validation to evaluate the model's generalization performance.\n",
    "\n",
    "3. Visualize the results to gain insights into the model's strengths and weaknesses."
   ]
  },
  {
   "cell_type": "markdown",
   "id": "8e30adbb",
   "metadata": {},
   "source": [
    "***1.1 Create Modeling Table (Phase 2 extension)***"
   ]
  },
  {
   "cell_type": "code",
   "execution_count": 1,
   "id": "d51cdf33",
   "metadata": {},
   "outputs": [
    {
     "name": "stdout",
     "output_type": "stream",
     "text": [
      "Modeling table created: (11798, 7)\n"
     ]
    }
   ],
   "source": [
    "import pandas as pd\n",
    "\n",
    "# 1. Load the cleaned dataset (from Phase 1)\n",
    "df = pd.read_csv(\"Data/Bengaluru_Ola_Bikes_Cleaned.csv\")\n",
    "\n",
    "# 2. Aggregate ride requests: count number of requests per pickup location, per hour, and date\n",
    "model_df = (\n",
    "    df.groupby(['Pickup Location', 'Hour', 'Date'])\n",
    "      .size()\n",
    "      .reset_index(name='ride_count')\n",
    ")\n",
    "\n",
    "# 3. Add engineered time features based on the 'Date' column\n",
    "model_df['DayOfWeek'] = pd.to_datetime(model_df['Date'], dayfirst=True).dt.dayofweek\n",
    "model_df['IsWeekend'] = model_df['DayOfWeek'].isin([5, 6]).astype(int)\n",
    "\n",
    "# 4. Encode pickup locations as numeric codes\n",
    "model_df['Pickup_loc_code'] = model_df['Pickup Location'].astype('category').cat.codes\n",
    "\n",
    "# 5. Save table for Phase 3 use\n",
    "model_df.to_csv(\"Data/Phase2_model_table.csv\", index=False)\n",
    "\n",
    "print(\"Modeling table created:\", model_df.shape)"
   ]
  },
  {
   "cell_type": "markdown",
   "id": "6d73c5b6",
   "metadata": {},
   "source": [
    "***1.2 Load the Created Modeling Table***"
   ]
  },
  {
   "cell_type": "code",
   "execution_count": 2,
   "id": "6b2f3481",
   "metadata": {},
   "outputs": [
    {
     "data": {
      "application/vnd.microsoft.datawrangler.viewer.v0+json": {
       "columns": [
        {
         "name": "index",
         "rawType": "int64",
         "type": "integer"
        },
        {
         "name": "Pickup Location",
         "rawType": "object",
         "type": "string"
        },
        {
         "name": "Hour",
         "rawType": "int64",
         "type": "integer"
        },
        {
         "name": "Date",
         "rawType": "object",
         "type": "string"
        },
        {
         "name": "ride_count",
         "rawType": "int64",
         "type": "integer"
        },
        {
         "name": "DayOfWeek",
         "rawType": "int64",
         "type": "integer"
        },
        {
         "name": "IsWeekend",
         "rawType": "int64",
         "type": "integer"
        },
        {
         "name": "Pickup_loc_code",
         "rawType": "int64",
         "type": "integer"
        }
       ],
       "ref": "d2daf0b7-fc4e-450c-9162-e018f50a9bc5",
       "rows": [
        [
         "0",
         "Area-1",
         "0",
         "04/01/2024",
         "1",
         "3",
         "0",
         "0"
        ],
        [
         "1",
         "Area-1",
         "0",
         "11/01/2024",
         "2",
         "3",
         "0",
         "0"
        ],
        [
         "2",
         "Area-1",
         "0",
         "14/01/2024",
         "1",
         "6",
         "1",
         "0"
        ],
        [
         "3",
         "Area-1",
         "0",
         "16/01/2024",
         "1",
         "1",
         "0",
         "0"
        ],
        [
         "4",
         "Area-1",
         "0",
         "23/01/2024",
         "2",
         "1",
         "0",
         "0"
        ]
       ],
       "shape": {
        "columns": 7,
        "rows": 5
       }
      },
      "text/html": [
       "<div>\n",
       "<style scoped>\n",
       "    .dataframe tbody tr th:only-of-type {\n",
       "        vertical-align: middle;\n",
       "    }\n",
       "\n",
       "    .dataframe tbody tr th {\n",
       "        vertical-align: top;\n",
       "    }\n",
       "\n",
       "    .dataframe thead th {\n",
       "        text-align: right;\n",
       "    }\n",
       "</style>\n",
       "<table border=\"1\" class=\"dataframe\">\n",
       "  <thead>\n",
       "    <tr style=\"text-align: right;\">\n",
       "      <th></th>\n",
       "      <th>Pickup Location</th>\n",
       "      <th>Hour</th>\n",
       "      <th>Date</th>\n",
       "      <th>ride_count</th>\n",
       "      <th>DayOfWeek</th>\n",
       "      <th>IsWeekend</th>\n",
       "      <th>Pickup_loc_code</th>\n",
       "    </tr>\n",
       "  </thead>\n",
       "  <tbody>\n",
       "    <tr>\n",
       "      <th>0</th>\n",
       "      <td>Area-1</td>\n",
       "      <td>0</td>\n",
       "      <td>04/01/2024</td>\n",
       "      <td>1</td>\n",
       "      <td>3</td>\n",
       "      <td>0</td>\n",
       "      <td>0</td>\n",
       "    </tr>\n",
       "    <tr>\n",
       "      <th>1</th>\n",
       "      <td>Area-1</td>\n",
       "      <td>0</td>\n",
       "      <td>11/01/2024</td>\n",
       "      <td>2</td>\n",
       "      <td>3</td>\n",
       "      <td>0</td>\n",
       "      <td>0</td>\n",
       "    </tr>\n",
       "    <tr>\n",
       "      <th>2</th>\n",
       "      <td>Area-1</td>\n",
       "      <td>0</td>\n",
       "      <td>14/01/2024</td>\n",
       "      <td>1</td>\n",
       "      <td>6</td>\n",
       "      <td>1</td>\n",
       "      <td>0</td>\n",
       "    </tr>\n",
       "    <tr>\n",
       "      <th>3</th>\n",
       "      <td>Area-1</td>\n",
       "      <td>0</td>\n",
       "      <td>16/01/2024</td>\n",
       "      <td>1</td>\n",
       "      <td>1</td>\n",
       "      <td>0</td>\n",
       "      <td>0</td>\n",
       "    </tr>\n",
       "    <tr>\n",
       "      <th>4</th>\n",
       "      <td>Area-1</td>\n",
       "      <td>0</td>\n",
       "      <td>23/01/2024</td>\n",
       "      <td>2</td>\n",
       "      <td>1</td>\n",
       "      <td>0</td>\n",
       "      <td>0</td>\n",
       "    </tr>\n",
       "  </tbody>\n",
       "</table>\n",
       "</div>"
      ],
      "text/plain": [
       "  Pickup Location  Hour        Date  ride_count  DayOfWeek  IsWeekend  \\\n",
       "0          Area-1     0  04/01/2024           1          3          0   \n",
       "1          Area-1     0  11/01/2024           2          3          0   \n",
       "2          Area-1     0  14/01/2024           1          6          1   \n",
       "3          Area-1     0  16/01/2024           1          1          0   \n",
       "4          Area-1     0  23/01/2024           2          1          0   \n",
       "\n",
       "   Pickup_loc_code  \n",
       "0                0  \n",
       "1                0  \n",
       "2                0  \n",
       "3                0  \n",
       "4                0  "
      ]
     },
     "execution_count": 2,
     "metadata": {},
     "output_type": "execute_result"
    }
   ],
   "source": [
    "model_df = pd.read_csv(\"Data\\\\Phase2_model_table.csv\")\n",
    "model_df.head()"
   ]
  },
  {
   "cell_type": "markdown",
   "id": "58754634",
   "metadata": {},
   "source": [
    "***2. Prepare Features & Target***"
   ]
  },
  {
   "cell_type": "code",
   "execution_count": 3,
   "id": "6b606e0a",
   "metadata": {},
   "outputs": [
    {
     "name": "stdout",
     "output_type": "stream",
     "text": [
      "Features: ['Hour', 'Pickup_loc_code', 'DayOfWeek', 'IsWeekend']\n",
      "X shape: (11798, 4) y shape: (11798,)\n"
     ]
    }
   ],
   "source": [
    "FEATURES = ['Hour','Pickup_loc_code','DayOfWeek','IsWeekend']\n",
    "X = model_df[FEATURES].values\n",
    "y = model_df['ride_count'].values\n",
    "groups = model_df['Pickup_loc_code'].values\n",
    "\n",
    "print(\"Features:\", FEATURES)\n",
    "print(\"X shape:\", X.shape, \"y shape:\", y.shape)"
   ]
  },
  {
   "cell_type": "markdown",
   "id": "98ad60b2",
   "metadata": {},
   "source": [
    "***3. Define Models***"
   ]
  },
  {
   "cell_type": "code",
   "execution_count": 4,
   "id": "4a926fd3",
   "metadata": {},
   "outputs": [
    {
     "name": "stdout",
     "output_type": "stream",
     "text": [
      "Models defined: ['LinearRegression', 'RandomForest', 'GradientBoosting', 'XGBoost', 'LightGBM']\n"
     ]
    }
   ],
   "source": [
    "#%pip install xgboost lightgbm\n",
    "\n",
    "from sklearn.linear_model import LinearRegression\n",
    "from sklearn.ensemble import RandomForestRegressor, GradientBoostingRegressor\n",
    "from xgboost import XGBRegressor\n",
    "from lightgbm import LGBMRegressor\n",
    "\n",
    "models = {\n",
    "    \"LinearRegression\": LinearRegression(),\n",
    "    \"RandomForest\": RandomForestRegressor(n_estimators=100, random_state=42, n_jobs=1),\n",
    "    \"GradientBoosting\": GradientBoostingRegressor(n_estimators=100, random_state=42),\n",
    "    \"XGBoost\": XGBRegressor(n_estimators=100, learning_rate=0.1, max_depth=6, random_state=42, n_jobs=1),\n",
    "    \"LightGBM\": LGBMRegressor(n_estimators=100, learning_rate=0.1, random_state=42, n_jobs=1)\n",
    "}\n",
    "\n",
    "print(\"Models defined:\", list(models.keys()))"
   ]
  },
  {
   "cell_type": "markdown",
   "id": "2dac8096",
   "metadata": {},
   "source": [
    "***4. Spatial CV (GroupKFold)***"
   ]
  },
  {
   "cell_type": "code",
   "execution_count": 5,
   "id": "e618aa47",
   "metadata": {},
   "outputs": [
    {
     "name": "stdout",
     "output_type": "stream",
     "text": [
      "Spatial CV results:\n",
      "LinearRegression | MAE 0.347 | RMSE 0.473 | R2 -0.001\n",
      "RandomForest | MAE 0.359 | RMSE 0.553 | R2 -0.368\n",
      "GradientBoosting | MAE 0.346 | RMSE 0.475 | R2 -0.010\n",
      "XGBoost | MAE 0.349 | RMSE 0.486 | R2 -0.057\n",
      "LightGBM | MAE 0.346 | RMSE 0.480 | R2 -0.030\n"
     ]
    }
   ],
   "source": [
    "from sklearn.model_selection import GroupKFold, cross_validate\n",
    "import numpy as np\n",
    "\n",
    "scoring = {'MAE':'neg_mean_absolute_error','MSE':'neg_mean_squared_error','R2':'r2'}\n",
    "results = {'spatial':{}}\n",
    "\n",
    "if 'LightGBM' in models:\n",
    "    models['LightGBM'] = LGBMRegressor(verbose=-1)\n",
    "    \n",
    "gkf = GroupKFold(n_splits=5)\n",
    "print(\"Spatial CV results:\")\n",
    "for name, model in models.items():\n",
    "    cv_res = cross_validate(model, model_df[FEATURES], y, cv=gkf.split(X, y, groups=groups), scoring=scoring, n_jobs=1)\n",
    "    mae = -cv_res['test_MAE']; mse = -cv_res['test_MSE']; r2 = cv_res['test_R2']\n",
    "    results['spatial'][name] = {'MAE':mae.tolist(),'RMSE':np.sqrt(mse).tolist(),'R2':r2.tolist()}\n",
    "    print(f\"{name} | MAE {mae.mean():.3f} | RMSE {np.sqrt(mse).mean():.3f} | R2 {r2.mean():.3f}\")"
   ]
  },
  {
   "cell_type": "markdown",
   "id": "9da5daa8",
   "metadata": {},
   "source": [
    "***5. Temporal CV (TimeSeriesSplit)***"
   ]
  },
  {
   "cell_type": "code",
   "execution_count": 6,
   "id": "10ae7181",
   "metadata": {},
   "outputs": [
    {
     "name": "stdout",
     "output_type": "stream",
     "text": [
      "\n",
      "Temporal CV results:\n",
      "LinearRegression | MAE 0.347 | RMSE 0.474 | R2 -0.004\n",
      "RandomForest | MAE 0.358 | RMSE 0.555 | R2 -0.377\n",
      "GradientBoosting | MAE 0.346 | RMSE 0.480 | R2 -0.030\n",
      "XGBoost | MAE 0.352 | RMSE 0.510 | R2 -0.165\n",
      "LightGBM | MAE 0.348 | RMSE 0.493 | R2 -0.086\n"
     ]
    }
   ],
   "source": [
    "from sklearn.model_selection import TimeSeriesSplit\n",
    "\n",
    "results['temporal'] = {}\n",
    "X_ts = model_df.sort_values('Hour')[FEATURES]\n",
    "y_ts = model_df.sort_values('Hour')['ride_count'].values\n",
    "\n",
    "if 'LightGBM' in models:\n",
    "    models['LightGBM'] = LGBMRegressor(verbose=-1)\n",
    "\n",
    "tscv = TimeSeriesSplit(n_splits=5)\n",
    "print(\"\\nTemporal CV results:\")\n",
    "for name, model in models.items():\n",
    "    cv_res = cross_validate(model, X_ts, y_ts, cv=tscv, scoring=scoring, n_jobs=1)\n",
    "    mae = -cv_res['test_MAE']; mse = -cv_res['test_MSE']; r2 = cv_res['test_R2']\n",
    "    results['temporal'][name] = {'MAE':mae.tolist(),'RMSE':np.sqrt(mse).tolist(),'R2':r2.tolist()}\n",
    "    print(f\"{name} | MAE {mae.mean():.3f} | RMSE {np.sqrt(mse).mean():.3f} | R2 {r2.mean():.3f}\")\n"
   ]
  },
  {
   "cell_type": "markdown",
   "id": "0193dc2b",
   "metadata": {},
   "source": [
    "***6. Save Results***"
   ]
  },
  {
   "cell_type": "code",
   "execution_count": 7,
   "id": "862217b1",
   "metadata": {},
   "outputs": [],
   "source": [
    "import json\n",
    "with open(\"Data/Phase3_evaluation_results.json\",\"w\") as f:\n",
    "    json.dump({'results':results}, f, indent=2)"
   ]
  },
  {
   "cell_type": "markdown",
   "id": "07275277",
   "metadata": {},
   "source": [
    "***7. Select Best Model & Manual Predictions (Temporal CV)***"
   ]
  },
  {
   "cell_type": "code",
   "execution_count": 8,
   "id": "0c0cffc2",
   "metadata": {},
   "outputs": [
    {
     "name": "stdout",
     "output_type": "stream",
     "text": [
      "Best model by temporal MAE: GradientBoosting\n",
      "Predictions saved to Phase3_predictions_manual.csv\n"
     ]
    },
    {
     "data": {
      "application/vnd.microsoft.datawrangler.viewer.v0+json": {
       "columns": [
        {
         "name": "index",
         "rawType": "int64",
         "type": "integer"
        },
        {
         "name": "Pickup Location",
         "rawType": "object",
         "type": "string"
        },
        {
         "name": "Hour",
         "rawType": "int64",
         "type": "integer"
        },
        {
         "name": "Date",
         "rawType": "object",
         "type": "string"
        },
        {
         "name": "ride_count",
         "rawType": "int64",
         "type": "integer"
        },
        {
         "name": "DayOfWeek",
         "rawType": "int64",
         "type": "integer"
        },
        {
         "name": "IsWeekend",
         "rawType": "int64",
         "type": "integer"
        },
        {
         "name": "Pickup_loc_code",
         "rawType": "int64",
         "type": "integer"
        },
        {
         "name": "predicted",
         "rawType": "float64",
         "type": "float"
        }
       ],
       "ref": "771dcd85-9aba-42db-bb25-8d6b4b6fb5f9",
       "rows": [
        [
         "8461",
         "Area-42",
         "0",
         "12/01/2024",
         "1",
         "4",
         "0",
         "36",
         null
        ],
        [
         "8460",
         "Area-42",
         "0",
         "02/01/2024",
         "1",
         "1",
         "0",
         "36",
         null
        ],
        [
         "8465",
         "Area-42",
         "0",
         "28/01/2024",
         "1",
         "6",
         "1",
         "36",
         null
        ],
        [
         "8464",
         "Area-42",
         "0",
         "21/01/2024",
         "1",
         "6",
         "1",
         "36",
         null
        ],
        [
         "8463",
         "Area-42",
         "0",
         "17/01/2024",
         "1",
         "2",
         "0",
         "36",
         null
        ]
       ],
       "shape": {
        "columns": 8,
        "rows": 5
       }
      },
      "text/html": [
       "<div>\n",
       "<style scoped>\n",
       "    .dataframe tbody tr th:only-of-type {\n",
       "        vertical-align: middle;\n",
       "    }\n",
       "\n",
       "    .dataframe tbody tr th {\n",
       "        vertical-align: top;\n",
       "    }\n",
       "\n",
       "    .dataframe thead th {\n",
       "        text-align: right;\n",
       "    }\n",
       "</style>\n",
       "<table border=\"1\" class=\"dataframe\">\n",
       "  <thead>\n",
       "    <tr style=\"text-align: right;\">\n",
       "      <th></th>\n",
       "      <th>Pickup Location</th>\n",
       "      <th>Hour</th>\n",
       "      <th>Date</th>\n",
       "      <th>ride_count</th>\n",
       "      <th>DayOfWeek</th>\n",
       "      <th>IsWeekend</th>\n",
       "      <th>Pickup_loc_code</th>\n",
       "      <th>predicted</th>\n",
       "    </tr>\n",
       "  </thead>\n",
       "  <tbody>\n",
       "    <tr>\n",
       "      <th>8461</th>\n",
       "      <td>Area-42</td>\n",
       "      <td>0</td>\n",
       "      <td>12/01/2024</td>\n",
       "      <td>1</td>\n",
       "      <td>4</td>\n",
       "      <td>0</td>\n",
       "      <td>36</td>\n",
       "      <td>NaN</td>\n",
       "    </tr>\n",
       "    <tr>\n",
       "      <th>8460</th>\n",
       "      <td>Area-42</td>\n",
       "      <td>0</td>\n",
       "      <td>02/01/2024</td>\n",
       "      <td>1</td>\n",
       "      <td>1</td>\n",
       "      <td>0</td>\n",
       "      <td>36</td>\n",
       "      <td>NaN</td>\n",
       "    </tr>\n",
       "    <tr>\n",
       "      <th>8465</th>\n",
       "      <td>Area-42</td>\n",
       "      <td>0</td>\n",
       "      <td>28/01/2024</td>\n",
       "      <td>1</td>\n",
       "      <td>6</td>\n",
       "      <td>1</td>\n",
       "      <td>36</td>\n",
       "      <td>NaN</td>\n",
       "    </tr>\n",
       "    <tr>\n",
       "      <th>8464</th>\n",
       "      <td>Area-42</td>\n",
       "      <td>0</td>\n",
       "      <td>21/01/2024</td>\n",
       "      <td>1</td>\n",
       "      <td>6</td>\n",
       "      <td>1</td>\n",
       "      <td>36</td>\n",
       "      <td>NaN</td>\n",
       "    </tr>\n",
       "    <tr>\n",
       "      <th>8463</th>\n",
       "      <td>Area-42</td>\n",
       "      <td>0</td>\n",
       "      <td>17/01/2024</td>\n",
       "      <td>1</td>\n",
       "      <td>2</td>\n",
       "      <td>0</td>\n",
       "      <td>36</td>\n",
       "      <td>NaN</td>\n",
       "    </tr>\n",
       "  </tbody>\n",
       "</table>\n",
       "</div>"
      ],
      "text/plain": [
       "     Pickup Location  Hour        Date  ride_count  DayOfWeek  IsWeekend  \\\n",
       "8461         Area-42     0  12/01/2024           1          4          0   \n",
       "8460         Area-42     0  02/01/2024           1          1          0   \n",
       "8465         Area-42     0  28/01/2024           1          6          1   \n",
       "8464         Area-42     0  21/01/2024           1          6          1   \n",
       "8463         Area-42     0  17/01/2024           1          2          0   \n",
       "\n",
       "      Pickup_loc_code  predicted  \n",
       "8461               36        NaN  \n",
       "8460               36        NaN  \n",
       "8465               36        NaN  \n",
       "8464               36        NaN  \n",
       "8463               36        NaN  "
      ]
     },
     "execution_count": 8,
     "metadata": {},
     "output_type": "execute_result"
    }
   ],
   "source": [
    "from sklearn.metrics import mean_absolute_error, mean_squared_error, r2_score\n",
    "\n",
    "best_model = min(results['temporal'], key=lambda m: np.mean(results['temporal'][m]['MAE']))\n",
    "print(\"Best model by temporal MAE:\", best_model)\n",
    "\n",
    "# instantiate correct model\n",
    "if best_model == \"RandomForest\":\n",
    "    base_model = RandomForestRegressor(n_estimators=100, random_state=42, n_jobs=1)\n",
    "elif best_model == \"GradientBoosting\":\n",
    "    base_model = GradientBoostingRegressor(n_estimators=100, random_state=42)\n",
    "elif best_model == \"XGBoost\":\n",
    "    base_model = XGBRegressor(n_estimators=100, learning_rate=0.1, max_depth=6, random_state=42, n_jobs=1)\n",
    "elif best_model == \"LightGBM\":\n",
    "    base_model = LGBMRegressor(n_estimators=100, learning_rate=0.1, random_state=42, n_jobs=1)\n",
    "else:\n",
    "    base_model = LinearRegression()\n",
    "\n",
    "# manual TimeSeries CV predictions\n",
    "y_pred = np.full_like(y_ts, np.nan, dtype=float)\n",
    "for fold, (train_idx, test_idx) in enumerate(tscv.split(X_ts)):\n",
    "    base_model.fit(X_ts.iloc[train_idx], y_ts[train_idx])\n",
    "    y_pred[test_idx] = base_model.predict(X_ts.iloc[test_idx])\n",
    "\n",
    "pred_df = model_df.sort_values('Hour').copy()\n",
    "pred_df['predicted'] = y_pred\n",
    "pred_df.to_csv(\"Data/Phase3_predictions_manual.csv\", index=False)\n",
    "print(\"Predictions saved to Phase3_predictions_manual.csv\")\n",
    "pred_df.head()\n"
   ]
  },
  {
   "cell_type": "markdown",
   "id": "2fc30ea1",
   "metadata": {},
   "source": [
    "***8. Diagnostics & Plots***"
   ]
  },
  {
   "cell_type": "code",
   "execution_count": 9,
   "id": "fa7da9ee",
   "metadata": {},
   "outputs": [
    {
     "name": "stdout",
     "output_type": "stream",
     "text": [
      "Final Metrics | MAE 0.346 | RMSE 0.480 | R2 -0.029\n"
     ]
    },
    {
     "data": {
      "image/png": "[encoded data removed]",
      "text/plain": [
       "<Figure size 640x480 with 1 Axes>"
      ]
     },
     "metadata": {},
     "output_type": "display_data"
    },
    {
     "data": {
      "image/png": "[encoded data removed]",
      "text/plain": [
       "<Figure size 640x480 with 1 Axes>"
      ]
     },
     "metadata": {},
     "output_type": "display_data"
    },
    {
     "name": "stdout",
     "output_type": "stream",
     "text": [
      "Feature importances:\n"
     ]
    },
    {
     "data": {
      "application/vnd.microsoft.datawrangler.viewer.v0+json": {
       "columns": [
        {
         "name": "index",
         "rawType": "int64",
         "type": "integer"
        },
        {
         "name": "Feature",
         "rawType": "object",
         "type": "string"
        },
        {
         "name": "Importance",
         "rawType": "float64",
         "type": "float"
        }
       ],
       "ref": "e37fab3e-96f2-4b94-a45f-137c694d6eac",
       "rows": [
        [
         "0",
         "Hour",
         "0.3898404041419584"
        ],
        [
         "1",
         "Pickup_loc_code",
         "0.37593278913298733"
        ],
        [
         "2",
         "DayOfWeek",
         "0.21499792187323286"
        ],
        [
         "3",
         "IsWeekend",
         "0.019228884851821188"
        ]
       ],
       "shape": {
        "columns": 2,
        "rows": 4
       }
      },
      "text/html": [
       "<div>\n",
       "<style scoped>\n",
       "    .dataframe tbody tr th:only-of-type {\n",
       "        vertical-align: middle;\n",
       "    }\n",
       "\n",
       "    .dataframe tbody tr th {\n",
       "        vertical-align: top;\n",
       "    }\n",
       "\n",
       "    .dataframe thead th {\n",
       "        text-align: right;\n",
       "    }\n",
       "</style>\n",
       "<table border=\"1\" class=\"dataframe\">\n",
       "  <thead>\n",
       "    <tr style=\"text-align: right;\">\n",
       "      <th></th>\n",
       "      <th>Feature</th>\n",
       "      <th>Importance</th>\n",
       "    </tr>\n",
       "  </thead>\n",
       "  <tbody>\n",
       "    <tr>\n",
       "      <th>0</th>\n",
       "      <td>Hour</td>\n",
       "      <td>0.389840</td>\n",
       "    </tr>\n",
       "    <tr>\n",
       "      <th>1</th>\n",
       "      <td>Pickup_loc_code</td>\n",
       "      <td>0.375933</td>\n",
       "    </tr>\n",
       "    <tr>\n",
       "      <th>2</th>\n",
       "      <td>DayOfWeek</td>\n",
       "      <td>0.214998</td>\n",
       "    </tr>\n",
       "    <tr>\n",
       "      <th>3</th>\n",
       "      <td>IsWeekend</td>\n",
       "      <td>0.019229</td>\n",
       "    </tr>\n",
       "  </tbody>\n",
       "</table>\n",
       "</div>"
      ],
      "text/plain": [
       "           Feature  Importance\n",
       "0             Hour    0.389840\n",
       "1  Pickup_loc_code    0.375933\n",
       "2        DayOfWeek    0.214998\n",
       "3        IsWeekend    0.019229"
      ]
     },
     "metadata": {},
     "output_type": "display_data"
    },
    {
     "data": {
      "image/png": "[encoded data removed]",
      "text/plain": [
       "<Figure size 640x480 with 1 Axes>"
      ]
     },
     "metadata": {},
     "output_type": "display_data"
    }
   ],
   "source": [
    "import seaborn as sns, matplotlib.pyplot as plt\n",
    "\n",
    "valid = ~np.isnan(y_pred)\n",
    "mae = mean_absolute_error(y_ts[valid], y_pred[valid])\n",
    "rmse = np.sqrt(mean_squared_error(y_ts[valid], y_pred[valid]))\n",
    "r2 = r2_score(y_ts[valid], y_pred[valid])\n",
    "print(f\"Final Metrics | MAE {mae:.3f} | RMSE {rmse:.3f} | R2 {r2:.3f}\")\n",
    "\n",
    "# Pred vs Actual\n",
    "plt.scatter(y_ts[valid], y_pred[valid], alpha=0.3)\n",
    "plt.plot([y_ts.min(), y_ts.max()],[y_ts.min(), y_ts.max()],'r--')\n",
    "plt.xlabel(\"Actual\"); plt.ylabel(\"Predicted Ride_count\"); plt.title(\"Predicted vs Actual(GradientBoosting) - TimeSeries manua CV\")\n",
    "plt.show()\n",
    "\n",
    "# Residuals\n",
    "residuals = y_ts[valid] - y_pred[valid]\n",
    "sns.histplot(residuals, bins=50, kde=True)\n",
    "plt.xlabel(\"Residual\")\n",
    "plt.title(\"Residuals Distribution (Actual - Predicted) - GradientBoosting (temperal CV)\")\n",
    "plt.show()\n",
    "\n",
    "# Feature Importances (if ensemble)\n",
    "if best_model in [\"RandomForest\",\"GradientBoosting\",\"XGBoost\",\"LightGBM\"]:\n",
    "    base_model.fit(X_ts, y_ts)\n",
    "    fi = pd.DataFrame({'Feature':FEATURES, 'Importance':base_model.feature_importances_}).sort_values('Importance', ascending=False)\n",
    "    print(\"Feature importances:\"); display(fi)\n",
    "    sns.barplot(data=fi, x='Importance', y='Feature')\n",
    "    plt.title(\"Feature Importances\")\n",
    "    plt.show()\n"
   ]
  },
  {
   "cell_type": "markdown",
   "id": "7b33c86e",
   "metadata": {},
   "source": [
    "***9. Visualize Model Comparison Results***"
   ]
  },
  {
   "cell_type": "code",
   "execution_count": 10,
   "id": "560cfcec",
   "metadata": {},
   "outputs": [
    {
     "data": {
      "image/png": "[encoded data removed]",
      "text/plain": [
       "<Figure size 1000x500 with 1 Axes>"
      ]
     },
     "metadata": {},
     "output_type": "display_data"
    },
    {
     "data": {
      "image/png": "[encoded data removed]",
      "text/plain": [
       "<Figure size 800x500 with 1 Axes>"
      ]
     },
     "metadata": {},
     "output_type": "display_data"
    }
   ],
   "source": [
    "# Convert results dict into DataFrame\n",
    "rows = []\n",
    "for cv_type in ['spatial','temporal']:\n",
    "    for model_name, metrics in results[cv_type].items():\n",
    "        for fold_idx, val in enumerate(metrics['MAE']):\n",
    "            rows.append({'CV':cv_type,'Model':model_name,'Fold':fold_idx,'MAE':val})\n",
    "mae_df = pd.DataFrame(rows)\n",
    "\n",
    "# Boxplot of MAE across folds\n",
    "plt.figure(figsize=(10,5))\n",
    "sns.boxplot(data=mae_df, x='Model', y='MAE', hue='CV')\n",
    "plt.title(\"MAE distribution across folds by Model and CV\")\n",
    "plt.show()\n",
    "\n",
    "# Barplot of mean MAE\n",
    "mean_df = mae_df.groupby(['CV','Model'])['MAE'].mean().reset_index()\n",
    "plt.figure(figsize=(8,5))\n",
    "sns.barplot(data=mean_df, x='Model', y='MAE', hue='CV')\n",
    "plt.title(\"Mean MAE by Model and CV strategy\")\n",
    "plt.ylabel(\"MAE (mean across folds)\")\n",
    "plt.show()"
   ]
  }
 ],
 "metadata": {
  "kernelspec": {
   "display_name": "Python 3",
   "language": "python",
   "name": "python3"
  },
  "language_info": {
   "codemirror_mode": {
    "name": "ipython",
    "version": 3
   },
   "file_extension": ".py",
   "mimetype": "text/x-python",
   "name": "python",
   "nbconvert_exporter": "python",
   "pygments_lexer": "ipython3",
   "version": "3.12.3"
  }
 },
 "nbformat": 4,
 "nbformat_minor": 5
}
